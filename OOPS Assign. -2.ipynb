{
 "cells": [
  {
   "cell_type": "markdown",
   "id": "5cae6874-7297-4735-85b2-8d94ac23511a",
   "metadata": {},
   "source": [
    "# Q1. What is Abstraction in OOps? Explain with an example."
   ]
  },
  {
   "cell_type": "markdown",
   "id": "5416fb97-4e01-4781-817a-b46a24277be3",
   "metadata": {},
   "source": [
    "# Ans:1\n",
    "\n",
    "Abstraction in OOPs is the process of hiding the implementation details of a system and only exposing the essential features and functionalities to the users. It is a fundamental concept in object-oriented programming that helps in creating more modular, flexible, and maintainable code. By using abstraction, we can separate the implementation details of a system from its interface, making it easier to change and maintain the system over time. Additionally, abstraction helps in creating more modular and reusable code, which can be used in different parts of an application or even in different applications altogether."
   ]
  },
  {
   "cell_type": "code",
   "execution_count": 3,
   "id": "754cafd4-41b6-4228-98c6-2286b422216e",
   "metadata": {},
   "outputs": [],
   "source": [
    "#Here is an example for abstaction in oops:\n",
    "from abc import ABC , abstractmethod\n",
    "\n",
    "class Shape(ABC):\n",
    "    def area(self):\n",
    "        pass"
   ]
  },
  {
   "cell_type": "code",
   "execution_count": 5,
   "id": "a0e0bdce-a1c3-431b-b9b6-37de747fe61b",
   "metadata": {},
   "outputs": [],
   "source": [
    "class Rectangle(Shape):\n",
    "   def __init__(self, length, width):\n",
    "      self.length = length\n",
    "      self.width = width\n",
    "   \n",
    "   def area(self):\n",
    "      return self.length * self.width\n",
    "\n",
    "class Circle(Shape):\n",
    "   def __init__(self, radius):\n",
    "      self.radius = radius\n",
    "   \n",
    "   def area(self):\n",
    "      return 3.14 * (self.radius ** 2)"
   ]
  },
  {
   "cell_type": "code",
   "execution_count": 6,
   "id": "a5f2011d-c24f-4beb-9739-bd2c88ccc368",
   "metadata": {},
   "outputs": [
    {
     "name": "stdout",
     "output_type": "stream",
     "text": [
      "15\n"
     ]
    }
   ],
   "source": [
    "rectangle = Rectangle(5, 3)\n",
    "print(rectangle.area())"
   ]
  },
  {
   "cell_type": "code",
   "execution_count": 7,
   "id": "85920eda-7169-47b6-90e3-fc1bc6606fcb",
   "metadata": {},
   "outputs": [
    {
     "name": "stdout",
     "output_type": "stream",
     "text": [
      "12.56\n"
     ]
    }
   ],
   "source": [
    "circle = Circle(2)\n",
    "print(circle.area())"
   ]
  },
  {
   "cell_type": "code",
   "execution_count": null,
   "id": "48374407-477a-42ae-9f09-2e2bfc675bc4",
   "metadata": {},
   "outputs": [],
   "source": []
  },
  {
   "cell_type": "markdown",
   "id": "b703ea83-581b-492b-9a91-546ff6f086ca",
   "metadata": {},
   "source": [
    "# Q2. Differentiate between Abstraction and Encapsulation. Explain with an example."
   ]
  },
  {
   "cell_type": "markdown",
   "id": "487611c1-2105-4eaf-9f24-68ef75d8998c",
   "metadata": {},
   "source": [
    "# Ans:2\n",
    "Abstraction and encapsulation are two fundamental concepts in object-oriented programming, and while they are closely related, they are different from each other.\n",
    "\n",
    "- **Abstraction:**\n",
    "refers to the process of hiding the implementation details of a system and only exposing the essential features and functionalities to the users. It is achieved through the use of abstract classes and interfaces. Abstraction helps in creating more modular, flexible, and maintainable code.\n",
    "\n",
    "- **Encapsulation:**\n",
    "on the other hand, refers to the process of hiding the internal workings of a class and protecting its data from outside interference. It is achieved through the use of access modifiers like public, private, and protected. Encapsulation helps in creating more secure, reliable, and maintainable code."
   ]
  },
  {
   "cell_type": "code",
   "execution_count": 10,
   "id": "72b41268-b1f3-4244-86d2-ef6de22c329d",
   "metadata": {},
   "outputs": [],
   "source": [
    "#Here's an example to illustrate the difference between abstraction and encapsulation in Python:\n",
    "#Encapsulation:\n",
    "class bankaccount :\n",
    "    def __init__(self, balance , acc_number):\n",
    "        self.__balance = balance\n",
    "        self.__acc_number = acc_number\n",
    "        \n",
    "    def deposit(self, amount) :\n",
    "        self.__balance = self.__balance + amount\n",
    "        \n",
    "    def withdrow(self, amount) :\n",
    "        self.__balance = self.__balance - amount"
   ]
  },
  {
   "cell_type": "code",
   "execution_count": 11,
   "id": "658ab399-1b8a-4f57-a39c-b9dcd9dfc104",
   "metadata": {},
   "outputs": [],
   "source": [
    "#Abstraction:\n",
    "from abc import ABC, abstractmethod\n",
    "\n",
    "class BankAccount(ABC):\n",
    "    def __init__(self, balance, acc_number):\n",
    "        self.__balance = balance\n",
    "        self.__acc_number = acc_number\n",
    "        \n",
    "    def deposit(self, amount):\n",
    "        self.__balance += amount\n",
    "        \n",
    "    def withdraw(self, amount):\n",
    "        self.__balance -= amount\n",
    "    \n",
    "    @abstractmethod\n",
    "    def get_balance(self):\n",
    "        pass\n",
    "\n",
    "class SavingsAccount(BankAccount):\n",
    "    def get_balance(self):\n",
    "        return self._BankAccount__balance"
   ]
  },
  {
   "cell_type": "code",
   "execution_count": null,
   "id": "429e791a-b0ff-4015-a6b6-905911603df2",
   "metadata": {},
   "outputs": [],
   "source": []
  },
  {
   "cell_type": "markdown",
   "id": "1a90bc07-a203-4bd4-85fc-02b30e55eb0b",
   "metadata": {},
   "source": [
    "# Q3. What is abc module in python? Why is it used?"
   ]
  },
  {
   "cell_type": "markdown",
   "id": "24e5ec3c-7a5c-46ac-be27-371a8012f1c6",
   "metadata": {},
   "source": [
    "# Ans:3\n",
    "\n",
    "**abc module:**\n",
    "\n",
    "The 'abc' module in Python stands for \"Abstract Base Classes\". It provides a way to define abstract classes in Python, which are classes that cannot be instantiated directly and must be subclassed to be used.\n",
    "\n",
    "The 'abc' module provides a 'ABC' class that can be used as a base class for defining abstract classes. To define an abstract method, you can use the '@abstractmethod' decorator. Any subclass that does not implement an abstract method defined in the base class will also be considered an abstract class and cannot be instantiated directly.\n",
    "\n",
    "\n",
    "# use-cases of abc module:\n",
    "\n",
    "The abc module in Python is used for defining and working with abstract base classes (ABCs). ABCs are classes that cannot be instantiated on their own but are meant to be subclassed by other classes that provide concrete implementations for their abstract methods.\n",
    "\n",
    "* Here are some reasons why the abc module is commonly used in Python:\n",
    "\n",
    "**Code reuse:**\n",
    "Abstract base classes can define common interfaces for related classes, which can simplify code reuse and make it easier to write generic code that works with different classes that implement the same interface.\n",
    "\n",
    "**Polymorphism:** By defining abstract base classes, you can take advantage of polymorphism in your code. You can write code that operates on an abstract base class and is able to work with any concrete implementation of that class.\n",
    "\n",
    "**Documentation:** Abstract base classes can provide a clear and concise way to document the expected interface of a class or a module. By defining abstract methods and properties, you can clearly communicate what a class is supposed to do and what its requirements are.\n",
    "\n",
    "Overall, the abc module is a useful tool for designing flexible and maintainable code in Python, and it is widely used in many libraries and frameworks"
   ]
  },
  {
   "cell_type": "code",
   "execution_count": null,
   "id": "ad35b523-41c3-4b93-ae5c-91f500ee9453",
   "metadata": {},
   "outputs": [],
   "source": []
  },
  {
   "cell_type": "markdown",
   "id": "735e3299-89cd-4fde-8457-f3e8828027f2",
   "metadata": {},
   "source": [
    "# Q4. How can we achieve data abstraction?"
   ]
  },
  {
   "cell_type": "markdown",
   "id": "3aa33353-fdc8-4a64-bce1-355db3c57c4d",
   "metadata": {},
   "source": [
    "# Ans: 4\n",
    "In Python, data abstraction can be achieved using abstract classes or interfaces provided by the abc module."
   ]
  },
  {
   "cell_type": "code",
   "execution_count": 14,
   "id": "939ee376-bd9a-4cbe-b84c-5d3904509fd9",
   "metadata": {},
   "outputs": [],
   "source": [
    "#Here is the way to achieve data abstraction in Python:\n",
    "\n",
    "from abc import ABC, abstractmethod\n",
    "\n",
    "class AbstractDataStorage(ABC):\n",
    "    def read_data(self):\n",
    "        pass\n",
    "    \n",
    "    def write_data(self, data):\n",
    "        pass\n",
    "    \n",
    "class FileDataStorage(AbstractDataStorage):\n",
    "    def read_data(self):\n",
    "        with open('data.txt', 'r') as f:\n",
    "            return f.read()\n",
    "    \n",
    "    def write_data(self, data):\n",
    "        with open('data.txt', 'w') as f:\n",
    "            f.write(data)\n",
    "\n",
    "class DatabaseDataStorage(AbstractDataStorage):\n",
    "    def read_data(self):\n",
    "        # Read data from database\n",
    "        pass\n",
    "    \n",
    "    def write_data(self, data):\n",
    "        pass\n",
    "\n",
    "def process_data(storage):\n",
    "    data = storage.read_data()\n",
    "    storage.write_data(data)\n",
    "    \n",
    "file_storage = FileDataStorage()\n",
    "database_storage = DatabaseDataStorage()"
   ]
  },
  {
   "cell_type": "code",
   "execution_count": null,
   "id": "ad86c7c2-151f-4e01-a69d-a2f3870434e9",
   "metadata": {},
   "outputs": [],
   "source": []
  },
  {
   "cell_type": "markdown",
   "id": "66243904-9b9f-4fa7-8e47-b18936a4eeb0",
   "metadata": {},
   "source": [
    "# Q5. Can we create an instance of an abstract class? Explain your answer."
   ]
  },
  {
   "cell_type": "markdown",
   "id": "c35a4394-77cf-4096-ab0b-85379489591f",
   "metadata": {},
   "source": [
    "# Ans: 5\n",
    "No, we cannot create an instance of an abstract class in Python. An abstract class is a class that cannot be instantiated on its own, but rather is meant to be subclassed and its methods overridden by its child classes.\n",
    "\n",
    "In Python, abstract classes are defined using the abc module, and they are marked using the @abstractmethod decorator. Attempting to create an instance of an abstract class will result in a TypeError."
   ]
  },
  {
   "cell_type": "code",
   "execution_count": 15,
   "id": "eda6411a-8e36-4e1e-9bfd-c136f52a2a58",
   "metadata": {},
   "outputs": [
    {
     "ename": "TypeError",
     "evalue": "Can't instantiate abstract class MyAbstractClass with abstract method my_abstract_method",
     "output_type": "error",
     "traceback": [
      "\u001b[0;31m---------------------------------------------------------------------------\u001b[0m",
      "\u001b[0;31mTypeError\u001b[0m                                 Traceback (most recent call last)",
      "Cell \u001b[0;32mIn[15], line 9\u001b[0m\n\u001b[1;32m      7\u001b[0m         \u001b[38;5;28;01mpass\u001b[39;00m\n\u001b[1;32m      8\u001b[0m \u001b[38;5;66;03m# Attempt to create an instance of the abstract class\u001b[39;00m\n\u001b[0;32m----> 9\u001b[0m my_instance \u001b[38;5;241m=\u001b[39m \u001b[43mMyAbstractClass\u001b[49m\u001b[43m(\u001b[49m\u001b[43m)\u001b[49m\n\u001b[1;32m     10\u001b[0m \u001b[38;5;66;03m# This will raise a TypeError\u001b[39;00m\n",
      "\u001b[0;31mTypeError\u001b[0m: Can't instantiate abstract class MyAbstractClass with abstract method my_abstract_method"
     ]
    }
   ],
   "source": [
    "from abc import ABC, abstractmethod\n",
    "\n",
    "class MyAbstractClass(ABC):\n",
    "    \n",
    "    @abstractmethod\n",
    "    def my_abstract_method(self):\n",
    "        pass\n",
    "# Attempt to create an instance of the abstract class\n",
    "my_instance = MyAbstractClass()\n",
    "# This will raise a TypeError"
   ]
  },
  {
   "cell_type": "code",
   "execution_count": 18,
   "id": "fe75ab97-b6a0-4276-ab6e-b599282c47ed",
   "metadata": {},
   "outputs": [
    {
     "name": "stdout",
     "output_type": "stream",
     "text": [
      "Hey..Team Pwskills! how's your day going on.\n"
     ]
    }
   ],
   "source": [
    "class MyChildClass(MyAbstractClass):\n",
    "    \n",
    "    def my_abstract_method(self):\n",
    "        print(\"Hey..Team Pwskills! how's your day going on.\")\n",
    "\n",
    "# Create an instance of the child class\n",
    "my_instance = MyChildClass()\n",
    "my_instance.my_abstract_method()"
   ]
  },
  {
   "cell_type": "code",
   "execution_count": null,
   "id": "70e8525f-dda9-428e-9deb-7c764c6de024",
   "metadata": {},
   "outputs": [],
   "source": []
  },
  {
   "cell_type": "code",
   "execution_count": null,
   "id": "17c5305b-3231-4a3e-a2a6-cd436d968ac5",
   "metadata": {},
   "outputs": [],
   "source": []
  }
 ],
 "metadata": {
  "kernelspec": {
   "display_name": "Python 3 (ipykernel)",
   "language": "python",
   "name": "python3"
  },
  "language_info": {
   "codemirror_mode": {
    "name": "ipython",
    "version": 3
   },
   "file_extension": ".py",
   "mimetype": "text/x-python",
   "name": "python",
   "nbconvert_exporter": "python",
   "pygments_lexer": "ipython3",
   "version": "3.10.8"
  }
 },
 "nbformat": 4,
 "nbformat_minor": 5
}
